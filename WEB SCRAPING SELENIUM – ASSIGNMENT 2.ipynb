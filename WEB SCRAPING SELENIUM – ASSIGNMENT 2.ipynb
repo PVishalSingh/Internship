{
 "cells": [
  {
   "cell_type": "markdown",
   "id": "9a46036e",
   "metadata": {},
   "source": [
    "Q1: Write a python program to scrape data for “Data Analyst” Job position in “Bangalore” location. You\n",
    "have to scrape the job-title, job-location, company_name, experience_required. You have to scrape first 10\n",
    "jobs data.\n",
    "This task will be done in following steps:\n",
    "1. First get the webpage https://www.naukri.com/\n",
    "2. Enter “Data Analyst” in “Skill, Designations, Companies” field and enter “Bangalore” in “enter the\n",
    "location” field.\n",
    "3. Then click the search button.\n",
    "4. Then scrape the data for the first 10 jobs results you get.\n",
    "5. Finally create a dataframe of the scraped data.\n"
   ]
  },
  {
   "cell_type": "code",
   "execution_count": 1,
   "id": "815556c4",
   "metadata": {},
   "outputs": [],
   "source": [
    "# installing selenium\n",
    "\n",
    "#!pip install selenium"
   ]
  },
  {
   "cell_type": "code",
   "execution_count": 2,
   "id": "4addbe6c",
   "metadata": {},
   "outputs": [],
   "source": [
    "# lets now import all the required libraries\n",
    "\n",
    "import selenium\n",
    "import pandas as pd\n",
    "\n",
    "from selenium import webdriver\n",
    "import warnings\n",
    "warnings.filterwarnings('ignore')\n",
    "import time"
   ]
  },
  {
   "cell_type": "code",
   "execution_count": 3,
   "id": "627065ba",
   "metadata": {},
   "outputs": [],
   "source": [
    "# Lets first connect to the web driver\n",
    "\n",
    "driver=webdriver.Chrome(r\"C:\\Users\\Visual singh\\Downloads\\chromedriver_win32 (1)\\chromedriver.exe\")"
   ]
  },
  {
   "cell_type": "code",
   "execution_count": 4,
   "id": "473544b7",
   "metadata": {},
   "outputs": [],
   "source": [
    "driver.get('https://www.naukri.com')"
   ]
  },
  {
   "cell_type": "code",
   "execution_count": 5,
   "id": "dc0e2264",
   "metadata": {},
   "outputs": [],
   "source": [
    "# finding element for job search bar\n",
    "\n",
    "search_field_designation=driver.find_element_by_class_name('suggestor-input ')\n",
    "search_field_designation.send_keys('Data Analyst')\n",
    "search_field_location=driver.find_element_by_xpath('/html/body/div/div[2]/div[3]/div/div/div[3]/div/div/div/input')\n",
    "search_field_location.send_keys('Bangalore')"
   ]
  },
  {
   "cell_type": "code",
   "execution_count": 6,
   "id": "3a145d73",
   "metadata": {},
   "outputs": [],
   "source": [
    "search_button=driver.find_element_by_xpath('/html/body/div/div[2]/div[3]/div/div/div[6]')\n",
    "search_button.click()"
   ]
  },
  {
   "cell_type": "code",
   "execution_count": 7,
   "id": "2b302c14",
   "metadata": {},
   "outputs": [],
   "source": [
    "# Creating empty list\n",
    "\n",
    "job_titles=[]\n",
    "company_names=[]\n",
    "locations_list=[]\n",
    "experience_list=[]"
   ]
  },
  {
   "cell_type": "code",
   "execution_count": 8,
   "id": "75c5c3fc",
   "metadata": {},
   "outputs": [
    {
     "data": {
      "text/plain": [
       "[<selenium.webdriver.remote.webelement.WebElement (session=\"fb6a19aa19e1c1df5baea0167f60dd2e\", element=\"971c9030-8681-4753-a207-56fc75c439d6\")>,\n",
       " <selenium.webdriver.remote.webelement.WebElement (session=\"fb6a19aa19e1c1df5baea0167f60dd2e\", element=\"f3191a06-1abd-40d2-8a78-c9837214f563\")>,\n",
       " <selenium.webdriver.remote.webelement.WebElement (session=\"fb6a19aa19e1c1df5baea0167f60dd2e\", element=\"c992ed4b-36f9-4866-beb6-7fa239844e03\")>,\n",
       " <selenium.webdriver.remote.webelement.WebElement (session=\"fb6a19aa19e1c1df5baea0167f60dd2e\", element=\"3194fe0c-7ee0-472f-a28e-3abed8b5137d\")>,\n",
       " <selenium.webdriver.remote.webelement.WebElement (session=\"fb6a19aa19e1c1df5baea0167f60dd2e\", element=\"ced215d6-db9c-4efa-aa05-9742578cc6f7\")>,\n",
       " <selenium.webdriver.remote.webelement.WebElement (session=\"fb6a19aa19e1c1df5baea0167f60dd2e\", element=\"431a7eea-938a-40bc-9874-f3abd29ad1fb\")>,\n",
       " <selenium.webdriver.remote.webelement.WebElement (session=\"fb6a19aa19e1c1df5baea0167f60dd2e\", element=\"e3ef4a69-f565-45d1-8daf-35f0d9fe402f\")>,\n",
       " <selenium.webdriver.remote.webelement.WebElement (session=\"fb6a19aa19e1c1df5baea0167f60dd2e\", element=\"2381e91b-caf0-441d-8e21-3b15b1c2231b\")>,\n",
       " <selenium.webdriver.remote.webelement.WebElement (session=\"fb6a19aa19e1c1df5baea0167f60dd2e\", element=\"524b7196-0037-4686-bd4f-e5fe8a4c5c61\")>,\n",
       " <selenium.webdriver.remote.webelement.WebElement (session=\"fb6a19aa19e1c1df5baea0167f60dd2e\", element=\"03cebebc-14e8-49dc-aa0f-9817f89122c1\")>]"
      ]
     },
     "execution_count": 8,
     "metadata": {},
     "output_type": "execute_result"
    }
   ],
   "source": [
    "# extracting all the tags where we have the job titles\n",
    "\n",
    "titles_tags=driver.find_elements_by_xpath(\"//a[@class='title fw500 ellipsis']\")\n",
    "titles_tags[0:10]"
   ]
  },
  {
   "cell_type": "code",
   "execution_count": 9,
   "id": "313ed88d",
   "metadata": {},
   "outputs": [
    {
     "data": {
      "text/plain": [
       "['Business and Data Analyst',\n",
       " 'SAS Analyst / data Analyst / Business analyst - Sas + SQL',\n",
       " 'Data Analyst I',\n",
       " 'Senior Data Analyst',\n",
       " 'Senior Data Analyst, Data & Analytics',\n",
       " 'Hiring - Zonal Data Analyst (Off Role) - Operations - Bangalore & Delh',\n",
       " 'Senior Data Analyst',\n",
       " 'Sr Domain Expert -Data Analysts',\n",
       " 'Data Analyst Sr',\n",
       " 'Data Analyst II']"
      ]
     },
     "execution_count": 9,
     "metadata": {},
     "output_type": "execute_result"
    }
   ],
   "source": [
    "# extracting all the job titles\n",
    "\n",
    "for i in titles_tags:\n",
    "    title=i.text\n",
    "    job_titles.append(title)  \n",
    "\n",
    "job_titles[0:10]"
   ]
  },
  {
   "cell_type": "code",
   "execution_count": 10,
   "id": "06c4e9a0",
   "metadata": {},
   "outputs": [
    {
     "data": {
      "text/plain": [
       "[<selenium.webdriver.remote.webelement.WebElement (session=\"fb6a19aa19e1c1df5baea0167f60dd2e\", element=\"d57c70d9-bd41-44d0-ac3d-e1620135e434\")>,\n",
       " <selenium.webdriver.remote.webelement.WebElement (session=\"fb6a19aa19e1c1df5baea0167f60dd2e\", element=\"1edf64db-bb09-4bce-8732-cfcd8b026d9c\")>,\n",
       " <selenium.webdriver.remote.webelement.WebElement (session=\"fb6a19aa19e1c1df5baea0167f60dd2e\", element=\"21e74a2c-66d7-4ce6-a836-91a5c297babe\")>,\n",
       " <selenium.webdriver.remote.webelement.WebElement (session=\"fb6a19aa19e1c1df5baea0167f60dd2e\", element=\"cb7e6446-8017-49db-9df2-e0a1b5a5af4a\")>,\n",
       " <selenium.webdriver.remote.webelement.WebElement (session=\"fb6a19aa19e1c1df5baea0167f60dd2e\", element=\"fcebc41a-334c-48f5-b47f-370cca3d5d08\")>,\n",
       " <selenium.webdriver.remote.webelement.WebElement (session=\"fb6a19aa19e1c1df5baea0167f60dd2e\", element=\"cc0fc6a1-7121-44b9-b8bc-8925ccf923d7\")>,\n",
       " <selenium.webdriver.remote.webelement.WebElement (session=\"fb6a19aa19e1c1df5baea0167f60dd2e\", element=\"413bc5c0-5e7d-4d9c-8f29-cceb29bc6f9f\")>,\n",
       " <selenium.webdriver.remote.webelement.WebElement (session=\"fb6a19aa19e1c1df5baea0167f60dd2e\", element=\"d500ea01-dde5-4f0a-88a7-e36b653ea27a\")>,\n",
       " <selenium.webdriver.remote.webelement.WebElement (session=\"fb6a19aa19e1c1df5baea0167f60dd2e\", element=\"1efb1379-c493-40a2-ab70-5db44d526890\")>,\n",
       " <selenium.webdriver.remote.webelement.WebElement (session=\"fb6a19aa19e1c1df5baea0167f60dd2e\", element=\"387b3b93-fc28-4ae3-8b1a-2fb53e5f6543\")>]"
      ]
     },
     "execution_count": 10,
     "metadata": {},
     "output_type": "execute_result"
    }
   ],
   "source": [
    "# extracting all the tags where we have the company names\n",
    "\n",
    "companies_tags=driver.find_elements_by_xpath(\"//a[@class='subTitle ellipsis fleft']\")\n",
    "companies_tags[0:10]"
   ]
  },
  {
   "cell_type": "code",
   "execution_count": 11,
   "id": "e84df65d",
   "metadata": {},
   "outputs": [
    {
     "data": {
      "text/plain": [
       "['CAREERDOST ENTERPRISE',\n",
       " 'Leading US MNC into analytics',\n",
       " 'Bioclinica',\n",
       " 'Shell',\n",
       " 'ReSource Pro Operational Solutions Pvt Ltd.',\n",
       " 'Rupeek',\n",
       " 'LatentView',\n",
       " 'Siemens',\n",
       " 'Epsilon',\n",
       " 'Cerner']"
      ]
     },
     "execution_count": 11,
     "metadata": {},
     "output_type": "execute_result"
    }
   ],
   "source": [
    "# extracting all the company names\n",
    "\n",
    "for i in companies_tags:\n",
    "    company_name=i.text\n",
    "    company_names.append(company_name)  \n",
    "\n",
    "company_names[0:10]"
   ]
  },
  {
   "cell_type": "code",
   "execution_count": 12,
   "id": "bfbff183",
   "metadata": {},
   "outputs": [
    {
     "data": {
      "text/plain": [
       "[<selenium.webdriver.remote.webelement.WebElement (session=\"fb6a19aa19e1c1df5baea0167f60dd2e\", element=\"90b633aa-6468-4f32-bef8-acd72eb693f4\")>,\n",
       " <selenium.webdriver.remote.webelement.WebElement (session=\"fb6a19aa19e1c1df5baea0167f60dd2e\", element=\"2e52feff-1f7e-43c7-900d-a81c94a04ed9\")>,\n",
       " <selenium.webdriver.remote.webelement.WebElement (session=\"fb6a19aa19e1c1df5baea0167f60dd2e\", element=\"d4dde6f1-9e3d-4f5c-af56-ed06b5ec949e\")>,\n",
       " <selenium.webdriver.remote.webelement.WebElement (session=\"fb6a19aa19e1c1df5baea0167f60dd2e\", element=\"edaf4957-6ba2-4325-8897-a52862b7d834\")>,\n",
       " <selenium.webdriver.remote.webelement.WebElement (session=\"fb6a19aa19e1c1df5baea0167f60dd2e\", element=\"749a7117-2de2-40e9-aaf5-d620ba8fc778\")>,\n",
       " <selenium.webdriver.remote.webelement.WebElement (session=\"fb6a19aa19e1c1df5baea0167f60dd2e\", element=\"b7eaf346-7a31-4105-ab7d-155fa45fde8a\")>,\n",
       " <selenium.webdriver.remote.webelement.WebElement (session=\"fb6a19aa19e1c1df5baea0167f60dd2e\", element=\"1595c7ef-f5e8-4f0b-9669-f3e4526bf464\")>,\n",
       " <selenium.webdriver.remote.webelement.WebElement (session=\"fb6a19aa19e1c1df5baea0167f60dd2e\", element=\"415c5cbf-5da5-447c-9664-783bad9415cf\")>,\n",
       " <selenium.webdriver.remote.webelement.WebElement (session=\"fb6a19aa19e1c1df5baea0167f60dd2e\", element=\"2e1e2c7d-6690-4ae3-9e93-cacb1e7502ff\")>,\n",
       " <selenium.webdriver.remote.webelement.WebElement (session=\"fb6a19aa19e1c1df5baea0167f60dd2e\", element=\"72792994-2ed4-411e-90ba-611a336f945f\")>]"
      ]
     },
     "execution_count": 12,
     "metadata": {},
     "output_type": "execute_result"
    }
   ],
   "source": [
    "# extracting all the tags where we have the experience required data\n",
    "\n",
    "experience_tags=driver.find_elements_by_xpath(\"//li[@class='fleft grey-text br2 placeHolderLi experience']/span[1]\")\n",
    "experience_tags[0:10]"
   ]
  },
  {
   "cell_type": "code",
   "execution_count": 13,
   "id": "f3471cf1",
   "metadata": {},
   "outputs": [
    {
     "data": {
      "text/plain": [
       "['0-5 Yrs',\n",
       " '2-7 Yrs',\n",
       " '0-3 Yrs',\n",
       " '10-12 Yrs',\n",
       " '3-5 Yrs',\n",
       " '2-7 Yrs',\n",
       " '3-6 Yrs',\n",
       " '0-10 Yrs',\n",
       " '5-7 Yrs',\n",
       " '6-10 Yrs']"
      ]
     },
     "execution_count": 13,
     "metadata": {},
     "output_type": "execute_result"
    }
   ],
   "source": [
    "# extracting the experience required\n",
    "\n",
    "for i in experience_tags:\n",
    "    experience=i.text\n",
    "    experience_list.append(experience)  \n",
    "\n",
    "experience_list[0:10]"
   ]
  },
  {
   "cell_type": "code",
   "execution_count": 14,
   "id": "8c8b2ed1",
   "metadata": {},
   "outputs": [
    {
     "data": {
      "text/plain": [
       "[<selenium.webdriver.remote.webelement.WebElement (session=\"fb6a19aa19e1c1df5baea0167f60dd2e\", element=\"ab2d1a50-f4f3-46a5-92d7-6715711f6ea2\")>,\n",
       " <selenium.webdriver.remote.webelement.WebElement (session=\"fb6a19aa19e1c1df5baea0167f60dd2e\", element=\"f652a3d0-0014-4be4-ab05-e6c987ddcacd\")>,\n",
       " <selenium.webdriver.remote.webelement.WebElement (session=\"fb6a19aa19e1c1df5baea0167f60dd2e\", element=\"54fd369f-5d6b-4518-be86-000e61bd71f9\")>,\n",
       " <selenium.webdriver.remote.webelement.WebElement (session=\"fb6a19aa19e1c1df5baea0167f60dd2e\", element=\"b1ff945c-aa84-46a6-bd52-4843e7435fc1\")>,\n",
       " <selenium.webdriver.remote.webelement.WebElement (session=\"fb6a19aa19e1c1df5baea0167f60dd2e\", element=\"da1caf87-d4cf-41e2-98b1-5f2ebbf02cde\")>,\n",
       " <selenium.webdriver.remote.webelement.WebElement (session=\"fb6a19aa19e1c1df5baea0167f60dd2e\", element=\"8f72f890-6909-4b83-9383-157dbe796753\")>,\n",
       " <selenium.webdriver.remote.webelement.WebElement (session=\"fb6a19aa19e1c1df5baea0167f60dd2e\", element=\"82e3f815-e005-4756-a1e0-31bcdc5d8494\")>,\n",
       " <selenium.webdriver.remote.webelement.WebElement (session=\"fb6a19aa19e1c1df5baea0167f60dd2e\", element=\"37fa23a2-f894-4a94-a82a-5d8419c8fc7d\")>,\n",
       " <selenium.webdriver.remote.webelement.WebElement (session=\"fb6a19aa19e1c1df5baea0167f60dd2e\", element=\"0abd6ee4-8a07-485a-9dc7-1d5c7cb4888f\")>,\n",
       " <selenium.webdriver.remote.webelement.WebElement (session=\"fb6a19aa19e1c1df5baea0167f60dd2e\", element=\"47906131-5fd5-4dc9-8e53-8c9818b2ffc8\")>]"
      ]
     },
     "execution_count": 14,
     "metadata": {},
     "output_type": "execute_result"
    }
   ],
   "source": [
    "# extracting all the tags where we have the experience required data\n",
    "\n",
    "locations_tags=driver.find_elements_by_xpath(\"//li[@class='fleft grey-text br2 placeHolderLi location']/span[1]\")\n",
    "locations_tags[0:10]"
   ]
  },
  {
   "cell_type": "code",
   "execution_count": 15,
   "id": "f79a8b3c",
   "metadata": {},
   "outputs": [
    {
     "data": {
      "text/plain": [
       "['Bangalore/Bengaluru',\n",
       " 'Bangalore/Bengaluru, Delhi / NCR, Mumbai (All Areas)',\n",
       " 'Bangalore/Bengaluru',\n",
       " 'Bangalore/Bengaluru',\n",
       " 'Bangalore/Bengaluru',\n",
       " 'New Delhi, Bangalore/Bengaluru',\n",
       " 'Chennai, Bangalore/Bengaluru',\n",
       " 'Bangalore/Bengaluru',\n",
       " 'Bangalore/Bengaluru',\n",
       " 'Bangalore/Bengaluru']"
      ]
     },
     "execution_count": 15,
     "metadata": {},
     "output_type": "execute_result"
    }
   ],
   "source": [
    "# extracting the experience required\n",
    "\n",
    "for i in locations_tags:\n",
    "    location=i.text\n",
    "    locations_list.append(location)  \n",
    "\n",
    "locations_list[0:10]"
   ]
  },
  {
   "cell_type": "code",
   "execution_count": 16,
   "id": "b7539898",
   "metadata": {},
   "outputs": [
    {
     "name": "stdout",
     "output_type": "stream",
     "text": [
      "20 20 20 20\n"
     ]
    }
   ],
   "source": [
    "# checking the length of each list\n",
    "\n",
    "print(len(job_titles),len(company_names),len(experience_list),len(locations_list))"
   ]
  },
  {
   "cell_type": "code",
   "execution_count": 17,
   "id": "e234340a",
   "metadata": {},
   "outputs": [],
   "source": [
    "import pandas as pd"
   ]
  },
  {
   "cell_type": "code",
   "execution_count": 18,
   "id": "85829089",
   "metadata": {},
   "outputs": [],
   "source": [
    "# creating dataframe\n",
    "\n",
    "jobs=pd.DataFrame({})\n",
    "\n",
    "jobs['title']=job_titles\n",
    "jobs['company']=company_names\n",
    "jobs['experience_required']=experience_list\n",
    "jobs['locations']=locations_list"
   ]
  },
  {
   "cell_type": "code",
   "execution_count": 19,
   "id": "5eb5c851",
   "metadata": {},
   "outputs": [
    {
     "data": {
      "text/html": [
       "<div>\n",
       "<style scoped>\n",
       "    .dataframe tbody tr th:only-of-type {\n",
       "        vertical-align: middle;\n",
       "    }\n",
       "\n",
       "    .dataframe tbody tr th {\n",
       "        vertical-align: top;\n",
       "    }\n",
       "\n",
       "    .dataframe thead th {\n",
       "        text-align: right;\n",
       "    }\n",
       "</style>\n",
       "<table border=\"1\" class=\"dataframe\">\n",
       "  <thead>\n",
       "    <tr style=\"text-align: right;\">\n",
       "      <th></th>\n",
       "      <th>title</th>\n",
       "      <th>company</th>\n",
       "      <th>experience_required</th>\n",
       "      <th>locations</th>\n",
       "    </tr>\n",
       "  </thead>\n",
       "  <tbody>\n",
       "    <tr>\n",
       "      <th>0</th>\n",
       "      <td>Business and Data Analyst</td>\n",
       "      <td>CAREERDOST ENTERPRISE</td>\n",
       "      <td>0-5 Yrs</td>\n",
       "      <td>Bangalore/Bengaluru</td>\n",
       "    </tr>\n",
       "    <tr>\n",
       "      <th>1</th>\n",
       "      <td>SAS Analyst / data Analyst / Business analyst ...</td>\n",
       "      <td>Leading US MNC into analytics</td>\n",
       "      <td>2-7 Yrs</td>\n",
       "      <td>Bangalore/Bengaluru, Delhi / NCR, Mumbai (All ...</td>\n",
       "    </tr>\n",
       "    <tr>\n",
       "      <th>2</th>\n",
       "      <td>Data Analyst I</td>\n",
       "      <td>Bioclinica</td>\n",
       "      <td>0-3 Yrs</td>\n",
       "      <td>Bangalore/Bengaluru</td>\n",
       "    </tr>\n",
       "    <tr>\n",
       "      <th>3</th>\n",
       "      <td>Senior Data Analyst</td>\n",
       "      <td>Shell</td>\n",
       "      <td>10-12 Yrs</td>\n",
       "      <td>Bangalore/Bengaluru</td>\n",
       "    </tr>\n",
       "    <tr>\n",
       "      <th>4</th>\n",
       "      <td>Senior Data Analyst, Data &amp; Analytics</td>\n",
       "      <td>ReSource Pro Operational Solutions Pvt Ltd.</td>\n",
       "      <td>3-5 Yrs</td>\n",
       "      <td>Bangalore/Bengaluru</td>\n",
       "    </tr>\n",
       "    <tr>\n",
       "      <th>5</th>\n",
       "      <td>Hiring - Zonal Data Analyst (Off Role) - Opera...</td>\n",
       "      <td>Rupeek</td>\n",
       "      <td>2-7 Yrs</td>\n",
       "      <td>New Delhi, Bangalore/Bengaluru</td>\n",
       "    </tr>\n",
       "    <tr>\n",
       "      <th>6</th>\n",
       "      <td>Senior Data Analyst</td>\n",
       "      <td>LatentView</td>\n",
       "      <td>3-6 Yrs</td>\n",
       "      <td>Chennai, Bangalore/Bengaluru</td>\n",
       "    </tr>\n",
       "    <tr>\n",
       "      <th>7</th>\n",
       "      <td>Sr Domain Expert -Data Analysts</td>\n",
       "      <td>Siemens</td>\n",
       "      <td>0-10 Yrs</td>\n",
       "      <td>Bangalore/Bengaluru</td>\n",
       "    </tr>\n",
       "    <tr>\n",
       "      <th>8</th>\n",
       "      <td>Data Analyst Sr</td>\n",
       "      <td>Epsilon</td>\n",
       "      <td>5-7 Yrs</td>\n",
       "      <td>Bangalore/Bengaluru</td>\n",
       "    </tr>\n",
       "    <tr>\n",
       "      <th>9</th>\n",
       "      <td>Data Analyst II</td>\n",
       "      <td>Cerner</td>\n",
       "      <td>6-10 Yrs</td>\n",
       "      <td>Bangalore/Bengaluru</td>\n",
       "    </tr>\n",
       "    <tr>\n",
       "      <th>10</th>\n",
       "      <td>Senior Data Analyst II</td>\n",
       "      <td>Flipkart</td>\n",
       "      <td>2-4 Yrs</td>\n",
       "      <td>Bangalore/Bengaluru</td>\n",
       "    </tr>\n",
       "    <tr>\n",
       "      <th>11</th>\n",
       "      <td>Senior Data Analyst II</td>\n",
       "      <td>Flipkart</td>\n",
       "      <td>3-6 Yrs</td>\n",
       "      <td>Bangalore/Bengaluru</td>\n",
       "    </tr>\n",
       "    <tr>\n",
       "      <th>12</th>\n",
       "      <td>Senior Data Analyst - Logistics</td>\n",
       "      <td>Gojek</td>\n",
       "      <td>4-10 Yrs</td>\n",
       "      <td>Bangalore/Bengaluru</td>\n",
       "    </tr>\n",
       "    <tr>\n",
       "      <th>13</th>\n",
       "      <td>Financial Data Analyst - FIG</td>\n",
       "      <td>Moody's</td>\n",
       "      <td>1-3 Yrs</td>\n",
       "      <td>Bangalore/Bengaluru</td>\n",
       "    </tr>\n",
       "    <tr>\n",
       "      <th>14</th>\n",
       "      <td>Data Analyst</td>\n",
       "      <td>Cleartrip</td>\n",
       "      <td>2-6 Yrs</td>\n",
       "      <td>Bangalore/Bengaluru</td>\n",
       "    </tr>\n",
       "    <tr>\n",
       "      <th>15</th>\n",
       "      <td>Data Analysts with Business Analysis</td>\n",
       "      <td>Avanze Technologies India Pvt. Ltd.</td>\n",
       "      <td>6-8 Yrs</td>\n",
       "      <td>Bangalore/Bengaluru</td>\n",
       "    </tr>\n",
       "    <tr>\n",
       "      <th>16</th>\n",
       "      <td>Senior Data Analyst (Digital Services Analytics)</td>\n",
       "      <td>Dell Technologies</td>\n",
       "      <td>1-6 Yrs</td>\n",
       "      <td>Bangalore/Bengaluru</td>\n",
       "    </tr>\n",
       "    <tr>\n",
       "      <th>17</th>\n",
       "      <td>Data Analyst / Data Engineer</td>\n",
       "      <td>TALENT MAX HR &amp; MANAGEMENT CONSULTANTS</td>\n",
       "      <td>8-13 Yrs</td>\n",
       "      <td>Indore, Pune, Bangalore/Bengaluru</td>\n",
       "    </tr>\n",
       "    <tr>\n",
       "      <th>18</th>\n",
       "      <td>Lead Data Analyst - Risk Analytics</td>\n",
       "      <td>Gojek</td>\n",
       "      <td>5-11 Yrs</td>\n",
       "      <td>Bangalore/Bengaluru</td>\n",
       "    </tr>\n",
       "    <tr>\n",
       "      <th>19</th>\n",
       "      <td>Sr Data Management Analyst</td>\n",
       "      <td>Moody's</td>\n",
       "      <td>3-6 Yrs</td>\n",
       "      <td>Bangalore/Bengaluru</td>\n",
       "    </tr>\n",
       "  </tbody>\n",
       "</table>\n",
       "</div>"
      ],
      "text/plain": [
       "                                                title  \\\n",
       "0                           Business and Data Analyst   \n",
       "1   SAS Analyst / data Analyst / Business analyst ...   \n",
       "2                                      Data Analyst I   \n",
       "3                                 Senior Data Analyst   \n",
       "4               Senior Data Analyst, Data & Analytics   \n",
       "5   Hiring - Zonal Data Analyst (Off Role) - Opera...   \n",
       "6                                 Senior Data Analyst   \n",
       "7                     Sr Domain Expert -Data Analysts   \n",
       "8                                     Data Analyst Sr   \n",
       "9                                     Data Analyst II   \n",
       "10                             Senior Data Analyst II   \n",
       "11                             Senior Data Analyst II   \n",
       "12                    Senior Data Analyst - Logistics   \n",
       "13                       Financial Data Analyst - FIG   \n",
       "14                                       Data Analyst   \n",
       "15               Data Analysts with Business Analysis   \n",
       "16   Senior Data Analyst (Digital Services Analytics)   \n",
       "17                       Data Analyst / Data Engineer   \n",
       "18                 Lead Data Analyst - Risk Analytics   \n",
       "19                         Sr Data Management Analyst   \n",
       "\n",
       "                                        company experience_required  \\\n",
       "0                         CAREERDOST ENTERPRISE             0-5 Yrs   \n",
       "1                 Leading US MNC into analytics             2-7 Yrs   \n",
       "2                                    Bioclinica             0-3 Yrs   \n",
       "3                                         Shell           10-12 Yrs   \n",
       "4   ReSource Pro Operational Solutions Pvt Ltd.             3-5 Yrs   \n",
       "5                                        Rupeek             2-7 Yrs   \n",
       "6                                    LatentView             3-6 Yrs   \n",
       "7                                       Siemens            0-10 Yrs   \n",
       "8                                       Epsilon             5-7 Yrs   \n",
       "9                                        Cerner            6-10 Yrs   \n",
       "10                                     Flipkart             2-4 Yrs   \n",
       "11                                     Flipkart             3-6 Yrs   \n",
       "12                                        Gojek            4-10 Yrs   \n",
       "13                                      Moody's             1-3 Yrs   \n",
       "14                                    Cleartrip             2-6 Yrs   \n",
       "15          Avanze Technologies India Pvt. Ltd.             6-8 Yrs   \n",
       "16                            Dell Technologies             1-6 Yrs   \n",
       "17       TALENT MAX HR & MANAGEMENT CONSULTANTS            8-13 Yrs   \n",
       "18                                        Gojek            5-11 Yrs   \n",
       "19                                      Moody's             3-6 Yrs   \n",
       "\n",
       "                                            locations  \n",
       "0                                 Bangalore/Bengaluru  \n",
       "1   Bangalore/Bengaluru, Delhi / NCR, Mumbai (All ...  \n",
       "2                                 Bangalore/Bengaluru  \n",
       "3                                 Bangalore/Bengaluru  \n",
       "4                                 Bangalore/Bengaluru  \n",
       "5                      New Delhi, Bangalore/Bengaluru  \n",
       "6                        Chennai, Bangalore/Bengaluru  \n",
       "7                                 Bangalore/Bengaluru  \n",
       "8                                 Bangalore/Bengaluru  \n",
       "9                                 Bangalore/Bengaluru  \n",
       "10                                Bangalore/Bengaluru  \n",
       "11                                Bangalore/Bengaluru  \n",
       "12                                Bangalore/Bengaluru  \n",
       "13                                Bangalore/Bengaluru  \n",
       "14                                Bangalore/Bengaluru  \n",
       "15                                Bangalore/Bengaluru  \n",
       "16                                Bangalore/Bengaluru  \n",
       "17                  Indore, Pune, Bangalore/Bengaluru  \n",
       "18                                Bangalore/Bengaluru  \n",
       "19                                Bangalore/Bengaluru  "
      ]
     },
     "execution_count": 19,
     "metadata": {},
     "output_type": "execute_result"
    }
   ],
   "source": [
    "jobs"
   ]
  },
  {
   "cell_type": "markdown",
   "id": "f0448ef3",
   "metadata": {},
   "source": [
    "Q2: Write a python program to scrape data for “Data Scientist” Job position in “Bangalore” location. You\n",
    "have to scrape the job-title, job-location, company_name. You have to scrape first 10 jobs data.\n",
    "This task will be done in following steps:\n",
    "1. First get the webpage https://www.naukri.com/\n",
    "2. Enter “Data Scientist” in “Skill, Designations, Companies” field and enter “Bangalore” in “enter the\n",
    "location” field.\n",
    "3. Then click the search button.\n",
    "4. Then scrape the data for the first 10 jobs results you get.\n",
    "5. Finally create a dataframe of the scraped data.\n"
   ]
  },
  {
   "cell_type": "code",
   "execution_count": 20,
   "id": "c9600869",
   "metadata": {},
   "outputs": [],
   "source": [
    "driver.get('https://www.naukri.com')"
   ]
  },
  {
   "cell_type": "code",
   "execution_count": 21,
   "id": "39e60025",
   "metadata": {},
   "outputs": [],
   "source": [
    "# finding element for job search bar\n",
    "\n",
    "search_field_designation=driver.find_element_by_class_name('suggestor-input ')\n",
    "search_field_designation.send_keys('Data Analyst')\n",
    "search_field_location=driver.find_element_by_xpath('/html/body/div/div[2]/div[3]/div/div/div[3]/div/div/div/input')\n",
    "search_field_location.send_keys('Bangalore')"
   ]
  },
  {
   "cell_type": "code",
   "execution_count": 22,
   "id": "9d59261c",
   "metadata": {},
   "outputs": [],
   "source": [
    "search_button=driver.find_element_by_xpath('/html/body/div/div[2]/div[3]/div/div/div[6]')\n",
    "search_button.click()"
   ]
  },
  {
   "cell_type": "code",
   "execution_count": 23,
   "id": "5d959bfb",
   "metadata": {},
   "outputs": [],
   "source": [
    "# Creating empty list\n",
    "\n",
    "job_titles=[]\n",
    "company_names=[]\n",
    "locations_list=[]\n"
   ]
  },
  {
   "cell_type": "code",
   "execution_count": 24,
   "id": "bd7071d0",
   "metadata": {},
   "outputs": [
    {
     "data": {
      "text/plain": [
       "[<selenium.webdriver.remote.webelement.WebElement (session=\"fb6a19aa19e1c1df5baea0167f60dd2e\", element=\"480d57d4-42e3-4dd4-864b-c40218caeef4\")>,\n",
       " <selenium.webdriver.remote.webelement.WebElement (session=\"fb6a19aa19e1c1df5baea0167f60dd2e\", element=\"fbaa226a-d785-414e-9578-855d30c3dc65\")>,\n",
       " <selenium.webdriver.remote.webelement.WebElement (session=\"fb6a19aa19e1c1df5baea0167f60dd2e\", element=\"e4942b02-6582-43c5-bb2a-32a958e2d342\")>,\n",
       " <selenium.webdriver.remote.webelement.WebElement (session=\"fb6a19aa19e1c1df5baea0167f60dd2e\", element=\"43c1780b-37db-4551-97cb-80d7307c8cc7\")>,\n",
       " <selenium.webdriver.remote.webelement.WebElement (session=\"fb6a19aa19e1c1df5baea0167f60dd2e\", element=\"7f8dc2c1-049b-4383-a040-b9a7c848c0f6\")>,\n",
       " <selenium.webdriver.remote.webelement.WebElement (session=\"fb6a19aa19e1c1df5baea0167f60dd2e\", element=\"0a03847c-ec62-4892-bab7-9fa00c414440\")>,\n",
       " <selenium.webdriver.remote.webelement.WebElement (session=\"fb6a19aa19e1c1df5baea0167f60dd2e\", element=\"a0f15f72-b2b2-43fc-a104-18228234a216\")>,\n",
       " <selenium.webdriver.remote.webelement.WebElement (session=\"fb6a19aa19e1c1df5baea0167f60dd2e\", element=\"24a09032-a492-4aab-8b07-bc0642f02e81\")>,\n",
       " <selenium.webdriver.remote.webelement.WebElement (session=\"fb6a19aa19e1c1df5baea0167f60dd2e\", element=\"6cb87726-cfa2-42da-805f-8e4bbec0b325\")>,\n",
       " <selenium.webdriver.remote.webelement.WebElement (session=\"fb6a19aa19e1c1df5baea0167f60dd2e\", element=\"c8a16656-797d-4f01-8592-eb3de3f34312\")>]"
      ]
     },
     "execution_count": 24,
     "metadata": {},
     "output_type": "execute_result"
    }
   ],
   "source": [
    "titles_tags=driver.find_elements_by_xpath(\"//a[@class='title fw500 ellipsis']\")\n",
    "titles_tags[0:10]"
   ]
  },
  {
   "cell_type": "code",
   "execution_count": 25,
   "id": "010f9664",
   "metadata": {},
   "outputs": [
    {
     "data": {
      "text/plain": [
       "['Business and Data Analyst',\n",
       " 'SAS Analyst / data Analyst / Business analyst - Sas + SQL',\n",
       " 'Data Analyst I',\n",
       " 'Senior Data Analyst',\n",
       " 'Senior Data Analyst, Data & Analytics',\n",
       " 'Hiring - Zonal Data Analyst (Off Role) - Operations - Bangalore & Delh',\n",
       " 'Senior Data Analyst',\n",
       " 'Sr Domain Expert -Data Analysts',\n",
       " 'Data Analyst Sr',\n",
       " 'Data Analyst II']"
      ]
     },
     "execution_count": 25,
     "metadata": {},
     "output_type": "execute_result"
    }
   ],
   "source": [
    "# extracting all the job titles\n",
    "\n",
    "for i in titles_tags:\n",
    "    title=i.text\n",
    "    job_titles.append(title)  \n",
    "\n",
    "job_titles[0:10]"
   ]
  },
  {
   "cell_type": "code",
   "execution_count": 26,
   "id": "44188bd3",
   "metadata": {},
   "outputs": [
    {
     "data": {
      "text/plain": [
       "[<selenium.webdriver.remote.webelement.WebElement (session=\"fb6a19aa19e1c1df5baea0167f60dd2e\", element=\"6e0dce3a-2ec0-4a3c-a8fc-080ad91ab107\")>,\n",
       " <selenium.webdriver.remote.webelement.WebElement (session=\"fb6a19aa19e1c1df5baea0167f60dd2e\", element=\"9d442cd0-032e-46ad-bd66-43c971d7d12e\")>,\n",
       " <selenium.webdriver.remote.webelement.WebElement (session=\"fb6a19aa19e1c1df5baea0167f60dd2e\", element=\"b78ec98b-8064-477a-9b01-ef5ce513e563\")>,\n",
       " <selenium.webdriver.remote.webelement.WebElement (session=\"fb6a19aa19e1c1df5baea0167f60dd2e\", element=\"68c46157-112a-47ef-a03e-f2045d992168\")>,\n",
       " <selenium.webdriver.remote.webelement.WebElement (session=\"fb6a19aa19e1c1df5baea0167f60dd2e\", element=\"49e9033e-bd42-4a27-9370-5139239b1019\")>,\n",
       " <selenium.webdriver.remote.webelement.WebElement (session=\"fb6a19aa19e1c1df5baea0167f60dd2e\", element=\"12635583-580e-4480-8546-7aa9a7682a88\")>,\n",
       " <selenium.webdriver.remote.webelement.WebElement (session=\"fb6a19aa19e1c1df5baea0167f60dd2e\", element=\"a8de2efd-ff1f-4a9b-9b16-6fbff2282fc6\")>,\n",
       " <selenium.webdriver.remote.webelement.WebElement (session=\"fb6a19aa19e1c1df5baea0167f60dd2e\", element=\"8ab0b38c-d605-4487-af88-c03cb798c920\")>,\n",
       " <selenium.webdriver.remote.webelement.WebElement (session=\"fb6a19aa19e1c1df5baea0167f60dd2e\", element=\"df490a03-1878-4642-8db4-c82b09cf86ae\")>,\n",
       " <selenium.webdriver.remote.webelement.WebElement (session=\"fb6a19aa19e1c1df5baea0167f60dd2e\", element=\"85c8d32a-2fc4-496e-80ed-28c48de04f55\")>]"
      ]
     },
     "execution_count": 26,
     "metadata": {},
     "output_type": "execute_result"
    }
   ],
   "source": [
    "# extracting all the tags where we have the company names\n",
    "\n",
    "companies_tags=driver.find_elements_by_xpath(\"//a[@class='subTitle ellipsis fleft']\")\n",
    "companies_tags[0:10]"
   ]
  },
  {
   "cell_type": "code",
   "execution_count": 27,
   "id": "e8df4f1c",
   "metadata": {},
   "outputs": [
    {
     "data": {
      "text/plain": [
       "['CAREERDOST ENTERPRISE',\n",
       " 'Leading US MNC into analytics',\n",
       " 'Bioclinica',\n",
       " 'Shell',\n",
       " 'ReSource Pro Operational Solutions Pvt Ltd.',\n",
       " 'Rupeek',\n",
       " 'LatentView',\n",
       " 'Siemens',\n",
       " 'Epsilon',\n",
       " 'Cerner']"
      ]
     },
     "execution_count": 27,
     "metadata": {},
     "output_type": "execute_result"
    }
   ],
   "source": [
    "# extracting all the company names\n",
    "\n",
    "for i in companies_tags:\n",
    "    company_name=i.text\n",
    "    company_names.append(company_name)  \n",
    "\n",
    "company_names[0:10]"
   ]
  },
  {
   "cell_type": "code",
   "execution_count": 28,
   "id": "f6ad2f13",
   "metadata": {},
   "outputs": [
    {
     "data": {
      "text/plain": [
       "[<selenium.webdriver.remote.webelement.WebElement (session=\"fb6a19aa19e1c1df5baea0167f60dd2e\", element=\"ccfbcedb-7739-4aa4-8cb5-0ca026ccf9cd\")>,\n",
       " <selenium.webdriver.remote.webelement.WebElement (session=\"fb6a19aa19e1c1df5baea0167f60dd2e\", element=\"971e8272-cd29-402b-bd7f-58b0093549dc\")>,\n",
       " <selenium.webdriver.remote.webelement.WebElement (session=\"fb6a19aa19e1c1df5baea0167f60dd2e\", element=\"23f9c8bc-c218-4b88-aa5f-ae91473705c8\")>,\n",
       " <selenium.webdriver.remote.webelement.WebElement (session=\"fb6a19aa19e1c1df5baea0167f60dd2e\", element=\"14b22a9e-1c12-4dad-983a-4037768401e9\")>,\n",
       " <selenium.webdriver.remote.webelement.WebElement (session=\"fb6a19aa19e1c1df5baea0167f60dd2e\", element=\"7a5412ed-4a1b-4277-a4ac-d880b5ec582a\")>,\n",
       " <selenium.webdriver.remote.webelement.WebElement (session=\"fb6a19aa19e1c1df5baea0167f60dd2e\", element=\"68412def-3447-4e19-9f54-2feb000eab77\")>,\n",
       " <selenium.webdriver.remote.webelement.WebElement (session=\"fb6a19aa19e1c1df5baea0167f60dd2e\", element=\"424e1c04-481a-4591-bce2-27172a132144\")>,\n",
       " <selenium.webdriver.remote.webelement.WebElement (session=\"fb6a19aa19e1c1df5baea0167f60dd2e\", element=\"994eb8f5-19a2-4a29-b3e0-e143013bbc8f\")>,\n",
       " <selenium.webdriver.remote.webelement.WebElement (session=\"fb6a19aa19e1c1df5baea0167f60dd2e\", element=\"61024eb6-b37c-41a1-9dc8-6bddc7fcaadf\")>,\n",
       " <selenium.webdriver.remote.webelement.WebElement (session=\"fb6a19aa19e1c1df5baea0167f60dd2e\", element=\"8e4a1b24-f41d-4db7-ab5a-9e6d5356f45b\")>]"
      ]
     },
     "execution_count": 28,
     "metadata": {},
     "output_type": "execute_result"
    }
   ],
   "source": [
    "# extracting all the tags where we have the experience required data\n",
    "\n",
    "locations_tags=driver.find_elements_by_xpath(\"//li[@class='fleft grey-text br2 placeHolderLi location']/span[1]\")\n",
    "locations_tags[0:10]"
   ]
  },
  {
   "cell_type": "code",
   "execution_count": 29,
   "id": "45d923a6",
   "metadata": {},
   "outputs": [
    {
     "data": {
      "text/plain": [
       "['Bangalore/Bengaluru',\n",
       " 'Bangalore/Bengaluru, Delhi / NCR, Mumbai (All Areas)',\n",
       " 'Bangalore/Bengaluru',\n",
       " 'Bangalore/Bengaluru',\n",
       " 'Bangalore/Bengaluru',\n",
       " 'New Delhi, Bangalore/Bengaluru',\n",
       " 'Chennai, Bangalore/Bengaluru',\n",
       " 'Bangalore/Bengaluru',\n",
       " 'Bangalore/Bengaluru',\n",
       " 'Bangalore/Bengaluru']"
      ]
     },
     "execution_count": 29,
     "metadata": {},
     "output_type": "execute_result"
    }
   ],
   "source": [
    "# extracting the experience required\n",
    "\n",
    "for i in locations_tags:\n",
    "    location=i.text\n",
    "    locations_list.append(location)  \n",
    "\n",
    "locations_list[0:10]"
   ]
  },
  {
   "cell_type": "code",
   "execution_count": 30,
   "id": "12c35b61",
   "metadata": {},
   "outputs": [],
   "source": [
    "# creating dataframe\n",
    "\n",
    "jobs=pd.DataFrame({})\n",
    "\n",
    "jobs['title']=job_titles\n",
    "jobs['company']=company_names\n",
    "jobs['locations']=locations_list"
   ]
  },
  {
   "cell_type": "code",
   "execution_count": 31,
   "id": "ed70d540",
   "metadata": {},
   "outputs": [
    {
     "data": {
      "text/html": [
       "<div>\n",
       "<style scoped>\n",
       "    .dataframe tbody tr th:only-of-type {\n",
       "        vertical-align: middle;\n",
       "    }\n",
       "\n",
       "    .dataframe tbody tr th {\n",
       "        vertical-align: top;\n",
       "    }\n",
       "\n",
       "    .dataframe thead th {\n",
       "        text-align: right;\n",
       "    }\n",
       "</style>\n",
       "<table border=\"1\" class=\"dataframe\">\n",
       "  <thead>\n",
       "    <tr style=\"text-align: right;\">\n",
       "      <th></th>\n",
       "      <th>title</th>\n",
       "      <th>company</th>\n",
       "      <th>locations</th>\n",
       "    </tr>\n",
       "  </thead>\n",
       "  <tbody>\n",
       "    <tr>\n",
       "      <th>0</th>\n",
       "      <td>Business and Data Analyst</td>\n",
       "      <td>CAREERDOST ENTERPRISE</td>\n",
       "      <td>Bangalore/Bengaluru</td>\n",
       "    </tr>\n",
       "    <tr>\n",
       "      <th>1</th>\n",
       "      <td>SAS Analyst / data Analyst / Business analyst ...</td>\n",
       "      <td>Leading US MNC into analytics</td>\n",
       "      <td>Bangalore/Bengaluru, Delhi / NCR, Mumbai (All ...</td>\n",
       "    </tr>\n",
       "    <tr>\n",
       "      <th>2</th>\n",
       "      <td>Data Analyst I</td>\n",
       "      <td>Bioclinica</td>\n",
       "      <td>Bangalore/Bengaluru</td>\n",
       "    </tr>\n",
       "    <tr>\n",
       "      <th>3</th>\n",
       "      <td>Senior Data Analyst</td>\n",
       "      <td>Shell</td>\n",
       "      <td>Bangalore/Bengaluru</td>\n",
       "    </tr>\n",
       "    <tr>\n",
       "      <th>4</th>\n",
       "      <td>Senior Data Analyst, Data &amp; Analytics</td>\n",
       "      <td>ReSource Pro Operational Solutions Pvt Ltd.</td>\n",
       "      <td>Bangalore/Bengaluru</td>\n",
       "    </tr>\n",
       "    <tr>\n",
       "      <th>5</th>\n",
       "      <td>Hiring - Zonal Data Analyst (Off Role) - Opera...</td>\n",
       "      <td>Rupeek</td>\n",
       "      <td>New Delhi, Bangalore/Bengaluru</td>\n",
       "    </tr>\n",
       "    <tr>\n",
       "      <th>6</th>\n",
       "      <td>Senior Data Analyst</td>\n",
       "      <td>LatentView</td>\n",
       "      <td>Chennai, Bangalore/Bengaluru</td>\n",
       "    </tr>\n",
       "    <tr>\n",
       "      <th>7</th>\n",
       "      <td>Sr Domain Expert -Data Analysts</td>\n",
       "      <td>Siemens</td>\n",
       "      <td>Bangalore/Bengaluru</td>\n",
       "    </tr>\n",
       "    <tr>\n",
       "      <th>8</th>\n",
       "      <td>Data Analyst Sr</td>\n",
       "      <td>Epsilon</td>\n",
       "      <td>Bangalore/Bengaluru</td>\n",
       "    </tr>\n",
       "    <tr>\n",
       "      <th>9</th>\n",
       "      <td>Data Analyst II</td>\n",
       "      <td>Cerner</td>\n",
       "      <td>Bangalore/Bengaluru</td>\n",
       "    </tr>\n",
       "    <tr>\n",
       "      <th>10</th>\n",
       "      <td>Senior Data Analyst II</td>\n",
       "      <td>Flipkart</td>\n",
       "      <td>Bangalore/Bengaluru</td>\n",
       "    </tr>\n",
       "    <tr>\n",
       "      <th>11</th>\n",
       "      <td>Senior Data Analyst II</td>\n",
       "      <td>Flipkart</td>\n",
       "      <td>Bangalore/Bengaluru</td>\n",
       "    </tr>\n",
       "    <tr>\n",
       "      <th>12</th>\n",
       "      <td>Senior Data Analyst - Logistics</td>\n",
       "      <td>Gojek</td>\n",
       "      <td>Bangalore/Bengaluru</td>\n",
       "    </tr>\n",
       "    <tr>\n",
       "      <th>13</th>\n",
       "      <td>Financial Data Analyst - FIG</td>\n",
       "      <td>Moody's</td>\n",
       "      <td>Bangalore/Bengaluru</td>\n",
       "    </tr>\n",
       "    <tr>\n",
       "      <th>14</th>\n",
       "      <td>Data Analyst</td>\n",
       "      <td>Cleartrip</td>\n",
       "      <td>Bangalore/Bengaluru</td>\n",
       "    </tr>\n",
       "    <tr>\n",
       "      <th>15</th>\n",
       "      <td>Data Analysts with Business Analysis</td>\n",
       "      <td>Avanze Technologies India Pvt. Ltd.</td>\n",
       "      <td>Bangalore/Bengaluru</td>\n",
       "    </tr>\n",
       "    <tr>\n",
       "      <th>16</th>\n",
       "      <td>Senior Data Analyst (Digital Services Analytics)</td>\n",
       "      <td>Dell Technologies</td>\n",
       "      <td>Bangalore/Bengaluru</td>\n",
       "    </tr>\n",
       "    <tr>\n",
       "      <th>17</th>\n",
       "      <td>Data Analyst / Data Engineer</td>\n",
       "      <td>TALENT MAX HR &amp; MANAGEMENT CONSULTANTS</td>\n",
       "      <td>Indore, Pune, Bangalore/Bengaluru</td>\n",
       "    </tr>\n",
       "    <tr>\n",
       "      <th>18</th>\n",
       "      <td>Lead Data Analyst - Risk Analytics</td>\n",
       "      <td>Gojek</td>\n",
       "      <td>Bangalore/Bengaluru</td>\n",
       "    </tr>\n",
       "    <tr>\n",
       "      <th>19</th>\n",
       "      <td>Sr Data Management Analyst</td>\n",
       "      <td>Moody's</td>\n",
       "      <td>Bangalore/Bengaluru</td>\n",
       "    </tr>\n",
       "  </tbody>\n",
       "</table>\n",
       "</div>"
      ],
      "text/plain": [
       "                                                title  \\\n",
       "0                           Business and Data Analyst   \n",
       "1   SAS Analyst / data Analyst / Business analyst ...   \n",
       "2                                      Data Analyst I   \n",
       "3                                 Senior Data Analyst   \n",
       "4               Senior Data Analyst, Data & Analytics   \n",
       "5   Hiring - Zonal Data Analyst (Off Role) - Opera...   \n",
       "6                                 Senior Data Analyst   \n",
       "7                     Sr Domain Expert -Data Analysts   \n",
       "8                                     Data Analyst Sr   \n",
       "9                                     Data Analyst II   \n",
       "10                             Senior Data Analyst II   \n",
       "11                             Senior Data Analyst II   \n",
       "12                    Senior Data Analyst - Logistics   \n",
       "13                       Financial Data Analyst - FIG   \n",
       "14                                       Data Analyst   \n",
       "15               Data Analysts with Business Analysis   \n",
       "16   Senior Data Analyst (Digital Services Analytics)   \n",
       "17                       Data Analyst / Data Engineer   \n",
       "18                 Lead Data Analyst - Risk Analytics   \n",
       "19                         Sr Data Management Analyst   \n",
       "\n",
       "                                        company  \\\n",
       "0                         CAREERDOST ENTERPRISE   \n",
       "1                 Leading US MNC into analytics   \n",
       "2                                    Bioclinica   \n",
       "3                                         Shell   \n",
       "4   ReSource Pro Operational Solutions Pvt Ltd.   \n",
       "5                                        Rupeek   \n",
       "6                                    LatentView   \n",
       "7                                       Siemens   \n",
       "8                                       Epsilon   \n",
       "9                                        Cerner   \n",
       "10                                     Flipkart   \n",
       "11                                     Flipkart   \n",
       "12                                        Gojek   \n",
       "13                                      Moody's   \n",
       "14                                    Cleartrip   \n",
       "15          Avanze Technologies India Pvt. Ltd.   \n",
       "16                            Dell Technologies   \n",
       "17       TALENT MAX HR & MANAGEMENT CONSULTANTS   \n",
       "18                                        Gojek   \n",
       "19                                      Moody's   \n",
       "\n",
       "                                            locations  \n",
       "0                                 Bangalore/Bengaluru  \n",
       "1   Bangalore/Bengaluru, Delhi / NCR, Mumbai (All ...  \n",
       "2                                 Bangalore/Bengaluru  \n",
       "3                                 Bangalore/Bengaluru  \n",
       "4                                 Bangalore/Bengaluru  \n",
       "5                      New Delhi, Bangalore/Bengaluru  \n",
       "6                        Chennai, Bangalore/Bengaluru  \n",
       "7                                 Bangalore/Bengaluru  \n",
       "8                                 Bangalore/Bengaluru  \n",
       "9                                 Bangalore/Bengaluru  \n",
       "10                                Bangalore/Bengaluru  \n",
       "11                                Bangalore/Bengaluru  \n",
       "12                                Bangalore/Bengaluru  \n",
       "13                                Bangalore/Bengaluru  \n",
       "14                                Bangalore/Bengaluru  \n",
       "15                                Bangalore/Bengaluru  \n",
       "16                                Bangalore/Bengaluru  \n",
       "17                  Indore, Pune, Bangalore/Bengaluru  \n",
       "18                                Bangalore/Bengaluru  \n",
       "19                                Bangalore/Bengaluru  "
      ]
     },
     "execution_count": 31,
     "metadata": {},
     "output_type": "execute_result"
    }
   ],
   "source": [
    "jobs"
   ]
  },
  {
   "cell_type": "markdown",
   "id": "ba352f37",
   "metadata": {},
   "source": [
    "Q3: You have to use the location and salary filter.\n",
    "You have to scrape data for “Data Scientist” designation for first 10 job results.\n",
    "You have to scrape the job-title, job-location, company name, experience required.\n",
    "The location filter to be used is “Delhi/NCR”. The salary filter to be used is “3-6” lakhs\n",
    "The task will be done as shown in the below steps:\n",
    "1. first get the webpage https://www.naukri.com/\n",
    "2. Enter “Data Scientist” in “Skill, Designations, and Companies” field.\n",
    "3. Then click the search button.\n",
    "4. Then apply the location filter and salary filter by checking the respective boxes\n",
    "5. Then scrape the data for the first 10 jobs results you get.\n",
    "6. Finally create a dataframe of the scraped data.\n"
   ]
  },
  {
   "cell_type": "code",
   "execution_count": 32,
   "id": "b3c50a2e",
   "metadata": {},
   "outputs": [],
   "source": [
    "# lets now import all the required libraries\n",
    "\n",
    "import selenium\n",
    "import pandas as pd\n",
    "\n",
    "from selenium import webdriver\n",
    "import warnings\n",
    "warnings.filterwarnings('ignore')\n",
    "import time"
   ]
  },
  {
   "cell_type": "code",
   "execution_count": 33,
   "id": "9977411c",
   "metadata": {},
   "outputs": [],
   "source": [
    "# Lets first connect to the web driver\n",
    "\n",
    "driver=webdriver.Chrome(r\"C:\\Users\\Visual singh\\Downloads\\chromedriver_win32 (1)\\chromedriver.exe\")"
   ]
  },
  {
   "cell_type": "code",
   "execution_count": 34,
   "id": "7d987481",
   "metadata": {},
   "outputs": [],
   "source": [
    "driver.get('https://www.naukri.com')"
   ]
  },
  {
   "cell_type": "code",
   "execution_count": 35,
   "id": "52b81683",
   "metadata": {},
   "outputs": [],
   "source": [
    "# finding element for job search bar\n",
    "\n",
    "search_field_designations=driver.find_element_by_class_name('suggestor-input ')\n",
    "search_field_designations.send_keys('Data Scientist')\n"
   ]
  },
  {
   "cell_type": "code",
   "execution_count": 36,
   "id": "35d36e2d",
   "metadata": {},
   "outputs": [],
   "source": [
    "search_button=driver.find_element_by_xpath('/html/body/div/div[2]/div[3]/div/div/div[6]')\n",
    "search_button.click()"
   ]
  },
  {
   "cell_type": "code",
   "execution_count": 65,
   "id": "43d77b24",
   "metadata": {},
   "outputs": [
    {
     "ename": "SyntaxError",
     "evalue": "invalid syntax (<ipython-input-65-09e4713aae7f>, line 1)",
     "output_type": "error",
     "traceback": [
      "\u001b[1;36m  File \u001b[1;32m\"<ipython-input-65-09e4713aae7f>\"\u001b[1;36m, line \u001b[1;32m1\u001b[0m\n\u001b[1;33m    location_search=driver.find_elements_by_xpath(\"//input[@id='chk-Delhi / NCR-cityTypeGid-']\").click();//Delhi/NCR\u001b[0m\n\u001b[1;37m                                                                                                         ^\u001b[0m\n\u001b[1;31mSyntaxError\u001b[0m\u001b[1;31m:\u001b[0m invalid syntax\n"
     ]
    }
   ],
   "source": [
    "location_search=driver.find_elements_by_xpath(\"//input[@id='chk-Delhi / NCR-cityTypeGid-']\").click();//Delhi/NCR\n",
    "location_search[0:10]\n"
   ]
  },
  {
   "cell_type": "code",
   "execution_count": 58,
   "id": "90e445c1",
   "metadata": {},
   "outputs": [
    {
     "ename": "NameError",
     "evalue": "name 'location_names' is not defined",
     "output_type": "error",
     "traceback": [
      "\u001b[1;31m---------------------------------------------------------------------------\u001b[0m",
      "\u001b[1;31mNameError\u001b[0m                                 Traceback (most recent call last)",
      "\u001b[1;32m<ipython-input-58-ed11f88e8ca4>\u001b[0m in \u001b[0;36m<module>\u001b[1;34m\u001b[0m\n\u001b[0;32m      1\u001b[0m \u001b[1;32mfor\u001b[0m \u001b[0mi\u001b[0m \u001b[1;32min\u001b[0m \u001b[0mlocation_search\u001b[0m\u001b[1;33m:\u001b[0m\u001b[1;33m\u001b[0m\u001b[1;33m\u001b[0m\u001b[0m\n\u001b[0;32m      2\u001b[0m     \u001b[0mlocation_name\u001b[0m\u001b[1;33m=\u001b[0m\u001b[0mi\u001b[0m\u001b[1;33m.\u001b[0m\u001b[0mtext\u001b[0m\u001b[1;33m\u001b[0m\u001b[1;33m\u001b[0m\u001b[0m\n\u001b[1;32m----> 3\u001b[1;33m     \u001b[0mlocation_names\u001b[0m\u001b[1;33m.\u001b[0m\u001b[0mappend\u001b[0m\u001b[1;33m(\u001b[0m\u001b[0mlocation_name\u001b[0m\u001b[1;33m)\u001b[0m\u001b[1;33m\u001b[0m\u001b[1;33m\u001b[0m\u001b[0m\n\u001b[0m\u001b[0;32m      4\u001b[0m \u001b[1;33m\u001b[0m\u001b[0m\n\u001b[0;32m      5\u001b[0m \u001b[0mlocation_names\u001b[0m\u001b[1;33m\u001b[0m\u001b[1;33m\u001b[0m\u001b[0m\n",
      "\u001b[1;31mNameError\u001b[0m: name 'location_names' is not defined"
     ]
    }
   ],
   "source": [
    "for i in location_search:\n",
    "    location_name=i.text\n",
    "    location_names.append(location_name)  \n",
    "\n",
    "location_names[0:10]"
   ]
  },
  {
   "cell_type": "code",
   "execution_count": null,
   "id": "29c848cb",
   "metadata": {},
   "outputs": [],
   "source": []
  }
 ],
 "metadata": {
  "kernelspec": {
   "display_name": "Python 3",
   "language": "python",
   "name": "python3"
  },
  "language_info": {
   "codemirror_mode": {
    "name": "ipython",
    "version": 3
   },
   "file_extension": ".py",
   "mimetype": "text/x-python",
   "name": "python",
   "nbconvert_exporter": "python",
   "pygments_lexer": "ipython3",
   "version": "3.8.8"
  }
 },
 "nbformat": 4,
 "nbformat_minor": 5
}
