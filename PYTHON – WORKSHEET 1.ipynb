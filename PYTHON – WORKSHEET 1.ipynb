{
 "cells": [
  {
   "cell_type": "code",
   "execution_count": 1,
   "id": "6319569b",
   "metadata": {},
   "outputs": [],
   "source": [
    "import numpy as np\n",
    "import pandas as pd"
   ]
  },
  {
   "cell_type": "markdown",
   "id": "4b3be12a",
   "metadata": {},
   "source": [
    "## Q1 to Q8 have only one correct answer. Choose the correct option to answer your question:-"
   ]
  },
  {
   "cell_type": "raw",
   "id": "4e25734f",
   "metadata": {},
   "source": [
    "1. Which of the following operators is used to calculate remainder in a division?\n",
    "A) # \n",
    "B) &\n",
    "C) % \n",
    "D) $"
   ]
  },
  {
   "cell_type": "code",
   "execution_count": 2,
   "id": "f0f8a49b",
   "metadata": {},
   "outputs": [],
   "source": [
    "x=10\n",
    "y=3"
   ]
  },
  {
   "cell_type": "code",
   "execution_count": 3,
   "id": "bc41c156",
   "metadata": {},
   "outputs": [
    {
     "data": {
      "text/plain": [
       "1"
      ]
     },
     "execution_count": 3,
     "metadata": {},
     "output_type": "execute_result"
    }
   ],
   "source": [
    "x%y"
   ]
  },
  {
   "cell_type": "markdown",
   "id": "889e3846",
   "metadata": {},
   "source": [
    "Answer- C"
   ]
  },
  {
   "cell_type": "raw",
   "id": "0f7523ae",
   "metadata": {},
   "source": [
    "2. In python 2//3 is equal to?\n",
    "A) 0.666 \n",
    "B) 0\n",
    "C) 1 \n",
    "D) 0.67"
   ]
  },
  {
   "cell_type": "code",
   "execution_count": 4,
   "id": "923513ac",
   "metadata": {},
   "outputs": [
    {
     "data": {
      "text/plain": [
       "0"
      ]
     },
     "execution_count": 4,
     "metadata": {},
     "output_type": "execute_result"
    }
   ],
   "source": [
    "2//3"
   ]
  },
  {
   "cell_type": "markdown",
   "id": "31d23b6c",
   "metadata": {},
   "source": [
    "Answer- B"
   ]
  },
  {
   "cell_type": "raw",
   "id": "3461ac9d",
   "metadata": {},
   "source": [
    "3. In python, 6<<2 is equal to?\n",
    "A) 36 \n",
    "B) 10\n",
    "C) 24 \n",
    "D) 45"
   ]
  },
  {
   "cell_type": "code",
   "execution_count": 5,
   "id": "8b2d9090",
   "metadata": {},
   "outputs": [
    {
     "data": {
      "text/plain": [
       "24"
      ]
     },
     "execution_count": 5,
     "metadata": {},
     "output_type": "execute_result"
    }
   ],
   "source": [
    "6<<2"
   ]
  },
  {
   "cell_type": "markdown",
   "id": "2840d0f6",
   "metadata": {},
   "source": [
    "Answer- C"
   ]
  },
  {
   "cell_type": "raw",
   "id": "ca5aed95",
   "metadata": {},
   "source": [
    "4. In python, 6&2 will give which of the following as output?\n",
    "A) 2 \n",
    "B) True\n",
    "C) False \n",
    "D) 0"
   ]
  },
  {
   "cell_type": "code",
   "execution_count": 6,
   "id": "acdc087f",
   "metadata": {},
   "outputs": [
    {
     "data": {
      "text/plain": [
       "2"
      ]
     },
     "execution_count": 6,
     "metadata": {},
     "output_type": "execute_result"
    }
   ],
   "source": [
    "6&2"
   ]
  },
  {
   "cell_type": "markdown",
   "id": "76170699",
   "metadata": {},
   "source": [
    "Answer- A"
   ]
  },
  {
   "cell_type": "raw",
   "id": "001a14c6",
   "metadata": {},
   "source": [
    "5. In python, 6|2 will give which of the following as output?\n",
    "A) 2 \n",
    "B) 4\n",
    "C) 0 \n",
    "D) 6"
   ]
  },
  {
   "cell_type": "code",
   "execution_count": 7,
   "id": "db1fcb35",
   "metadata": {},
   "outputs": [
    {
     "data": {
      "text/plain": [
       "6"
      ]
     },
     "execution_count": 7,
     "metadata": {},
     "output_type": "execute_result"
    }
   ],
   "source": [
    "6|2"
   ]
  },
  {
   "cell_type": "markdown",
   "id": "ee34ce60",
   "metadata": {},
   "source": [
    "Answer- D"
   ]
  },
  {
   "cell_type": "raw",
   "id": "0e58f069",
   "metadata": {},
   "source": [
    "6. What does the finally keyword denotes in python?\n",
    "A) It is used to mark the end of the code\n",
    "B) It encloses the lines of code which will be executed if any error occurs while executing the lines of code in \n",
    "the try block.\n",
    "C) the finally block will be executed no matter if the try block raises an error or not.\n",
    "D) None of the above"
   ]
  },
  {
   "cell_type": "code",
   "execution_count": 9,
   "id": "2102afc3",
   "metadata": {},
   "outputs": [
    {
     "name": "stdout",
     "output_type": "stream",
     "text": [
      "My Full Name is Punit Vishal Singh\n"
     ]
    }
   ],
   "source": [
    "a = \"hello\"\n",
    "\n",
    "try:\n",
    "  a > 3\n",
    "except NameError:\n",
    "  print(\"My Name is Punit.\")\n",
    "except TypeError:\n",
    "  print(\"My Full Name is Punit Vishal Singh\")"
   ]
  },
  {
   "cell_type": "markdown",
   "id": "fe98cb07",
   "metadata": {},
   "source": [
    "Answer- B"
   ]
  },
  {
   "cell_type": "raw",
   "id": "bb349854",
   "metadata": {},
   "source": [
    "7. What does raise keyword is used for in python?\n",
    "A) It is used to raise an exception. \n",
    "B) It is used to define lambda function\n",
    "C) it's not a keyword in python. \n",
    "D) None of the above"
   ]
  },
  {
   "cell_type": "code",
   "execution_count": 13,
   "id": "5ba513cc",
   "metadata": {},
   "outputs": [
    {
     "ename": "TypeError",
     "evalue": "What a sunny day",
     "output_type": "error",
     "traceback": [
      "\u001b[1;31m---------------------------------------------------------------------------\u001b[0m",
      "\u001b[1;31mTypeError\u001b[0m                                 Traceback (most recent call last)",
      "\u001b[1;32m<ipython-input-13-696fa3eca743>\u001b[0m in \u001b[0;36m<module>\u001b[1;34m\u001b[0m\n\u001b[0;32m      2\u001b[0m \u001b[1;33m\u001b[0m\u001b[0m\n\u001b[0;32m      3\u001b[0m \u001b[1;32mif\u001b[0m \u001b[1;32mnot\u001b[0m \u001b[0mtype\u001b[0m\u001b[1;33m(\u001b[0m\u001b[0mx\u001b[0m\u001b[1;33m)\u001b[0m \u001b[1;32mis\u001b[0m \u001b[0mint\u001b[0m\u001b[1;33m:\u001b[0m\u001b[1;33m\u001b[0m\u001b[1;33m\u001b[0m\u001b[0m\n\u001b[1;32m----> 4\u001b[1;33m   \u001b[1;32mraise\u001b[0m \u001b[0mTypeError\u001b[0m\u001b[1;33m(\u001b[0m\u001b[1;34m\"What a sunny day\"\u001b[0m\u001b[1;33m)\u001b[0m\u001b[1;33m\u001b[0m\u001b[1;33m\u001b[0m\u001b[0m\n\u001b[0m",
      "\u001b[1;31mTypeError\u001b[0m: What a sunny day"
     ]
    }
   ],
   "source": [
    "x = \"hello\"\n",
    "\n",
    "if not type(x) is int:\n",
    "  raise TypeError(\"What a sunny day\")"
   ]
  },
  {
   "cell_type": "markdown",
   "id": "af1a0371",
   "metadata": {},
   "source": [
    "Answer- A"
   ]
  },
  {
   "cell_type": "raw",
   "id": "99dc17e2",
   "metadata": {},
   "source": [
    "8. Which of the following is a common use case of yield keyword in python?\n",
    "A) in defining an iterator \n",
    "B) while defining a lambda function\n",
    "C) in defining a generator \n",
    "D) in for loop."
   ]
  },
  {
   "cell_type": "code",
   "execution_count": 14,
   "id": "8eaecad5",
   "metadata": {},
   "outputs": [
    {
     "name": "stdout",
     "output_type": "stream",
     "text": [
      "1\n",
      "4\n",
      "9\n",
      "16\n",
      "25\n",
      "36\n",
      "49\n",
      "64\n",
      "81\n",
      "100\n"
     ]
    }
   ],
   "source": [
    "def nextSquare():\n",
    "    m = 1\n",
    "  \n",
    "    # An Infinite loop to generate squares \n",
    "    while True:\n",
    "        yield m*m                \n",
    "        m += 1  # Next execution resumes \n",
    "                # from this point     \n",
    "  \n",
    "# Driver code to test above generator \n",
    "# function\n",
    "for num in nextSquare():\n",
    "    if num > 100:\n",
    "         break    \n",
    "    print(num)"
   ]
  },
  {
   "cell_type": "markdown",
   "id": "6fda1c25",
   "metadata": {},
   "source": [
    "Answer- B"
   ]
  },
  {
   "cell_type": "markdown",
   "id": "bc12d927",
   "metadata": {},
   "source": [
    "## Q9 and Q10 have multiple correct answers. Choose all the correct options to answer your question."
   ]
  },
  {
   "cell_type": "raw",
   "id": "754ad95d",
   "metadata": {},
   "source": [
    "9. Which of the following are the valid variable names?\n",
    "A) _abc \n",
    "B) 1abc\n",
    "C) abc2 \n",
    "D) None of the above"
   ]
  },
  {
   "cell_type": "code",
   "execution_count": 15,
   "id": "b445e354",
   "metadata": {},
   "outputs": [
    {
     "ename": "SyntaxError",
     "evalue": "invalid syntax (<ipython-input-15-c715b17a4b80>, line 2)",
     "output_type": "error",
     "traceback": [
      "\u001b[1;36m  File \u001b[1;32m\"<ipython-input-15-c715b17a4b80>\"\u001b[1;36m, line \u001b[1;32m2\u001b[0m\n\u001b[1;33m    1abc = \"Punit\"\u001b[0m\n\u001b[1;37m     ^\u001b[0m\n\u001b[1;31mSyntaxError\u001b[0m\u001b[1;31m:\u001b[0m invalid syntax\n"
     ]
    }
   ],
   "source": [
    "_abc = \"Punit\"\n",
    "1abc = \"Punit\"\n",
    "abc2 = \"Punit\""
   ]
  },
  {
   "cell_type": "markdown",
   "id": "8b2eeb9f",
   "metadata": {},
   "source": [
    "Answer- A & C"
   ]
  },
  {
   "cell_type": "raw",
   "id": "f67ccc3b",
   "metadata": {},
   "source": [
    "10. Which of the following are the keywords in python?\n",
    "A) yield \n",
    "B) raise\n",
    "C) look-in \n",
    "D) all of the above"
   ]
  },
  {
   "cell_type": "code",
   "execution_count": 16,
   "id": "72e223dd",
   "metadata": {},
   "outputs": [
    {
     "name": "stdout",
     "output_type": "stream",
     "text": [
      "The list of keywords is : \n",
      "['False', 'None', 'True', 'and', 'as', 'assert', 'async', 'await', 'break', 'class', 'continue', 'def', 'del', 'elif', 'else', 'except', 'finally', 'for', 'from', 'global', 'if', 'import', 'in', 'is', 'lambda', 'nonlocal', 'not', 'or', 'pass', 'raise', 'return', 'try', 'while', 'with', 'yield']\n"
     ]
    }
   ],
   "source": [
    "import keyword\n",
    "  \n",
    "# printing all keywords at once using \"kwlist()\"\n",
    "print(\"The list of keywords is : \")\n",
    "print(keyword.kwlist)"
   ]
  },
  {
   "cell_type": "markdown",
   "id": "0c6915aa",
   "metadata": {},
   "source": [
    "Answer- A & B"
   ]
  },
  {
   "cell_type": "markdown",
   "id": "f2d24c6a",
   "metadata": {},
   "source": [
    "## Q11 to Q15 are programming questions. Answer them in Jupyter Notebook."
   ]
  },
  {
   "cell_type": "raw",
   "id": "94cacee0",
   "metadata": {},
   "source": [
    "11. Write a python program to find the factorial of a number."
   ]
  },
  {
   "cell_type": "code",
   "execution_count": 17,
   "id": "ca68fc21",
   "metadata": {},
   "outputs": [
    {
     "name": "stdout",
     "output_type": "stream",
     "text": [
      "The factorial of 5 is 120\n"
     ]
    }
   ],
   "source": [
    "Num = 5\n",
    "Factorial = 1\n",
    "if Num < 0:\n",
    "    print(\"Factorial does not exist for negative numbers\")\n",
    "elif Num == 0:\n",
    "    print(\"The factorial of 0 is 1\")\n",
    "else:\n",
    "    for i in range(1, Num + 1):\n",
    "        Factorial = Factorial * i\n",
    "    print(\"The factorial of\",Num,\"is\",Factorial)"
   ]
  },
  {
   "cell_type": "raw",
   "id": "9a004e32",
   "metadata": {},
   "source": [
    "12. Write a python program to find whether a number is prime or composite."
   ]
  },
  {
   "cell_type": "code",
   "execution_count": 18,
   "id": "071def8c",
   "metadata": {},
   "outputs": [
    {
     "name": "stdout",
     "output_type": "stream",
     "text": [
      "Enter an input number:19\n",
      "19 is a prime number\n"
     ]
    }
   ],
   "source": [
    "# A default function for Prime checking conditions  \n",
    "def PrimeChecker(a):  \n",
    "    # Checking that given number is more than 1  \n",
    "    if a > 1:  \n",
    "        # Iterating over the given number with for loop  \n",
    "        for j in range(2, int(a/2) + 1):  \n",
    "            # If the given number is divisible or not  \n",
    "            if (a % j) == 0:  \n",
    "                print(a, \"is not a prime number\")  \n",
    "                break  \n",
    "        # Else it is a prime number  \n",
    "        else:  \n",
    "            print(a, \"is a prime number\")  \n",
    "    # If the given number is 1  \n",
    "    else:  \n",
    "        print(a, \"is not a prime number\")  \n",
    "# Taking an input number from the user  \n",
    "a = int(input(\"Enter an input number:\"))  \n",
    "# Printing result  \n",
    "PrimeChecker(a)  "
   ]
  },
  {
   "cell_type": "raw",
   "id": "be9b730a",
   "metadata": {},
   "source": [
    "13. Write a python program to check whether a given string is palindrome or not."
   ]
  },
  {
   "cell_type": "code",
   "execution_count": 21,
   "id": "c637e95e",
   "metadata": {},
   "outputs": [
    {
     "name": "stdout",
     "output_type": "stream",
     "text": [
      "No\n"
     ]
    }
   ],
   "source": [
    "# function which return reverse of a string\n",
    " \n",
    "def isPalindrome(p):\n",
    "    return p == p[::-1]\n",
    " \n",
    " \n",
    "# Driver code\n",
    "p = \"punit\"\n",
    "ans = isPalindrome(p)\n",
    " \n",
    "if ans:\n",
    "    print(\"Yes\")\n",
    "else:\n",
    "    print(\"No\")"
   ]
  },
  {
   "cell_type": "code",
   "execution_count": 24,
   "id": "18752649",
   "metadata": {},
   "outputs": [
    {
     "name": "stdout",
     "output_type": "stream",
     "text": [
      "Yes\n"
     ]
    }
   ],
   "source": [
    "# function which return reverse of a string\n",
    " \n",
    "def isPalindrome(s):\n",
    "    return s == s[::-1]\n",
    " \n",
    " \n",
    "# Driver code\n",
    "s = \"malayalam\"\n",
    "ans = isPalindrome(s)\n",
    " \n",
    "if ans:\n",
    "    print(\"Yes\")\n",
    "else:\n",
    "    print(\"No\")"
   ]
  },
  {
   "cell_type": "raw",
   "id": "da47347a",
   "metadata": {},
   "source": [
    "14. Write a Python program to get the third side of right-angled triangle from two given sides."
   ]
  },
  {
   "cell_type": "code",
   "execution_count": 25,
   "id": "7e92d96b",
   "metadata": {},
   "outputs": [
    {
     "name": "stdout",
     "output_type": "stream",
     "text": [
      "Hypotenuse = 5.0\n",
      "Adjacent = 4.0\n",
      "Opposite = 3.0\n",
      "You know the answer!\n"
     ]
    }
   ],
   "source": [
    "def pythagoras(opposite_side,adjacent_side,hypotenuse):\n",
    "        if opposite_side == str(\"x\"):\n",
    "            return (\"Opposite = \" + str(((hypotenuse**2) - (adjacent_side**2))**0.5))\n",
    "        elif adjacent_side == str(\"x\"):\n",
    "            return (\"Adjacent = \" + str(((hypotenuse**2) - (opposite_side**2))**0.5))\n",
    "        elif hypotenuse == str(\"x\"):\n",
    "            return (\"Hypotenuse = \" + str(((opposite_side**2) + (adjacent_side**2))**0.5))\n",
    "        else:\n",
    "            return \"You know the answer!\"\n",
    "    \n",
    "print(pythagoras(3,4,'x'))\n",
    "print(pythagoras(3,'x',5))\n",
    "print(pythagoras('x',4,5))\n",
    "print(pythagoras(3,4,5))"
   ]
  },
  {
   "cell_type": "raw",
   "id": "390aa440",
   "metadata": {},
   "source": [
    "15. Write a python program to print the frequency of each of the characters present in a given string"
   ]
  },
  {
   "cell_type": "code",
   "execution_count": 26,
   "id": "24b227ea",
   "metadata": {},
   "outputs": [
    {
     "name": "stdout",
     "output_type": "stream",
     "text": [
      "Count of all characters in FlipRobo is :\n",
      " {'F': 1, 'l': 1, 'i': 1, 'p': 1, 'R': 1, 'o': 2, 'b': 1}\n"
     ]
    }
   ],
   "source": [
    "# Python3 code to demonstrate \n",
    "# each occurrence frequency using \n",
    "# naive method \n",
    "  \n",
    "# initializing string \n",
    "test_str = \"FlipRobo\"\n",
    "  \n",
    "# using naive method to get count \n",
    "# of each element in string \n",
    "all_freq = {}\n",
    "  \n",
    "for i in test_str:\n",
    "    if i in all_freq:\n",
    "        all_freq[i] += 1\n",
    "    else:\n",
    "        all_freq[i] = 1\n",
    "  \n",
    "# printing result \n",
    "print (\"Count of all characters in FlipRobo is :\\n \"\n",
    "                                        +  str(all_freq))"
   ]
  },
  {
   "cell_type": "code",
   "execution_count": 27,
   "id": "803c980e",
   "metadata": {},
   "outputs": [
    {
     "name": "stdout",
     "output_type": "stream",
     "text": [
      "Count of all characters in FlipRobo is :\n",
      " Counter({'o': 2, 'F': 1, 'l': 1, 'i': 1, 'p': 1, 'R': 1, 'b': 1})\n"
     ]
    }
   ],
   "source": [
    "# Python3 code to demonstrate \n",
    "# each occurrence frequency using \n",
    "# collections.Counter()\n",
    "from collections import Counter\n",
    "  \n",
    "# initializing string \n",
    "test_str = \"FlipRobo\"\n",
    "  \n",
    "# using collections.Counter() to get \n",
    "# count of each element in string \n",
    "res = Counter(test_str)\n",
    "  \n",
    "# printing result \n",
    "print (\"Count of all characters in FlipRobo is :\\n \"\n",
    "                                           +  str(res))"
   ]
  },
  {
   "cell_type": "code",
   "execution_count": null,
   "id": "b95b8f64",
   "metadata": {},
   "outputs": [],
   "source": []
  }
 ],
 "metadata": {
  "kernelspec": {
   "display_name": "Python 3",
   "language": "python",
   "name": "python3"
  },
  "language_info": {
   "codemirror_mode": {
    "name": "ipython",
    "version": 3
   },
   "file_extension": ".py",
   "mimetype": "text/x-python",
   "name": "python",
   "nbconvert_exporter": "python",
   "pygments_lexer": "ipython3",
   "version": "3.8.8"
  }
 },
 "nbformat": 4,
 "nbformat_minor": 5
}
